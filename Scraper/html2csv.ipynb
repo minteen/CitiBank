{
 "cells": [
  {
   "cell_type": "code",
   "execution_count": 56,
   "outputs": [
    {
     "name": "stderr",
     "output_type": "stream",
     "text": [
      "  4%|▎         | 6/167 [00:00<00:05, 28.15it/s]"
     ]
    },
    {
     "name": "stdout",
     "output_type": "stream",
     "text": [
      "上海仁杰河滨园房地产有限公司.html 表头年份为空\n"
     ]
    },
    {
     "name": "stderr",
     "output_type": "stream",
     "text": [
      " 19%|█▊        | 31/167 [00:00<00:02, 49.75it/s]"
     ]
    },
    {
     "name": "stdout",
     "output_type": "stream",
     "text": [
      "中山市长健医用包装材料有限公司.html 表头年份为空\n"
     ]
    },
    {
     "name": "stderr",
     "output_type": "stream",
     "text": [
      " 66%|██████▋   | 111/167 [00:02<00:01, 41.71it/s]"
     ]
    },
    {
     "name": "stdout",
     "output_type": "stream",
     "text": [
      "济南四建（集团）有限责任公司.html 表头年份为空\n"
     ]
    },
    {
     "name": "stderr",
     "output_type": "stream",
     "text": [
      "100%|██████████| 167/167 [00:04<00:00, 37.71it/s]\n"
     ]
    }
   ],
   "source": [
    "import os\n",
    "\n",
    "from bs4 import BeautifulSoup\n",
    "import pandas as pd\n",
    "from io import StringIO\n",
    "from tqdm import tqdm\n",
    "\n",
    "html_directory = r\"./DATA/财务报表HTML/\"\n",
    "html_files = [file for file in os.listdir(html_directory) if file.endswith(\".html\")]\n",
    "for html_file in tqdm(html_files):\n",
    "    with open(html_directory + html_file, 'r', encoding='gbk') as file:\n",
    "        html_content = file.read()\n",
    "    soup = BeautifulSoup(html_content, 'lxml')  # Parse the HTML using BeautifulSoup\n",
    "    tables_with_class = soup.find_all('table',\n",
    "                                      class_='ntable ntable-table-fixed')\n",
    "    # 第一个表的列索引是年份，表中内容为空，注意第一列无意义\n",
    "    try:\n",
    "        table_head = tables_with_class[0]\n",
    "    except IndexError:\n",
    "        print(f'{html_file} 表头年份为空')\n",
    "        continue\n",
    "    df_head = pd.read_html(StringIO(str(table_head)))[0].iloc[:, 1:]\n",
    "    years = [year.split(\"年\")[0] for year in df_head.columns]\n",
    "    # 第二个表是具体的数据\n",
    "    try:\n",
    "        table = tables_with_class[1]\n",
    "    except IndexError:\n",
    "        print(f'{html_file} 数据内容为空')\n",
    "        continue\n",
    "    df = pd.read_html(StringIO(str(table)))[0]\n",
    "    df = df.dropna(subset=df.columns[1:], how='all')  # 去除全是NULL的行\n",
    "    # 行索引为’同比%‘时，修改为具体指标+同比\n",
    "    # for i in range(df.shape[1]):\n",
    "    #     if \"同比\" in df.iloc[i, 0]:\n",
    "    #         df.iloc[i, 0] = df.iloc[i - 1, 0] + df.iloc[i, 0]\n",
    "    for i in range(1, df.shape[0]):\n",
    "        if \"同比\" in str(df.index[i]):\n",
    "            df.index[i] = df.index[i - 1] + df.index[i]\n",
    "\n",
    "    # 第一列为行索引\n",
    "    df.set_index(df.columns[0], inplace=True)\n",
    "    df.columns = years\n",
    "    csv_file = r\"./DATA/财务报表CSV/\" + html_file.split(\".html\")[0] + \".csv\"\n",
    "    df.to_csv(csv_file, index=True)"
   ],
   "metadata": {
    "collapsed": false,
    "ExecuteTime": {
     "end_time": "2024-02-05T13:36:05.441611300Z",
     "start_time": "2024-02-05T13:36:00.993900700Z"
    }
   },
   "id": "2b967e6b9c89c1b2"
  }
 ],
 "metadata": {
  "kernelspec": {
   "display_name": "Python 3",
   "language": "python",
   "name": "python3"
  },
  "language_info": {
   "codemirror_mode": {
    "name": "ipython",
    "version": 2
   },
   "file_extension": ".py",
   "mimetype": "text/x-python",
   "name": "python",
   "nbconvert_exporter": "python",
   "pygments_lexer": "ipython2",
   "version": "2.7.6"
  }
 },
 "nbformat": 4,
 "nbformat_minor": 5
}
