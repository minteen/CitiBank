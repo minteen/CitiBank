{
 "cells": [
  {
   "cell_type": "code",
   "execution_count": 28,
   "id": "initial_id",
   "metadata": {
    "collapsed": true,
    "ExecuteTime": {
     "end_time": "2024-02-05T12:40:46.785794900Z",
     "start_time": "2024-02-05T12:40:46.729806400Z"
    }
   },
   "outputs": [],
   "source": [
    "from selenium import webdriver\n",
    "from selenium.webdriver.common.by import By\n",
    "from selenium.webdriver.common.keys import Keys\n",
    "from selenium.common.exceptions import NoSuchElementException\n",
    "from time import sleep\n",
    "from random import uniform\n",
    "import os\n",
    "import pandas as pd"
   ]
  },
  {
   "cell_type": "code",
   "execution_count": 29,
   "outputs": [],
   "source": [
    "# 定义两个类，'房地产公司'类继承'企业'类，多了供应商信息\n",
    "class Enterprise:\n",
    "\n",
    "    def __init__(self, name, selenium_browser):\n",
    "        \"\"\"\n",
    "        :param name: 公司名称\n",
    "        :param selenium_browser:\n",
    "        \"\"\"\n",
    "        self.browser = selenium_browser\n",
    "        self.name = name\n",
    "        self.code = None\n",
    "        self.financialTables = None\n",
    "\n",
    "    def search(self):\n",
    "        # 1. 每次搜索都会产生新页面，需要关闭多余页面方便管理\n",
    "        current_window_handle = self.browser.current_window_handle  # 获取当前窗口句柄\n",
    "        all_window_handles = self.browser.window_handles  # 获取所有窗口句柄\n",
    "        # 关闭除当前标签页外的所有页面\n",
    "        for window_handle in all_window_handles:\n",
    "            if window_handle != current_window_handle:\n",
    "                self.browser.switch_to.window(window_handle)\n",
    "                self.browser.close()  # 容易出现bug：如果此时edge弹出其它窗口，可能会触发异常。\n",
    "        self.browser.switch_to.window(current_window_handle)  # 切回到原来的窗口\n",
    "\n",
    "        # 2. 搜索企业名称\n",
    "        search = self.browser.find_element(By.NAME, 'key')\n",
    "        # 清除搜索框，否则会公司名字叠加\n",
    "        for _ in range(20):\n",
    "            search.send_keys(Keys.BACKSPACE)\n",
    "        search.send_keys(self.name)\n",
    "        search.send_keys(Keys.ENTER)\n",
    "\n",
    "        # 3. 点击第一个搜索结果\n",
    "        # wait = WebDriverWait(self.browser, 5)\n",
    "        sleep(uniform(2, 5))\n",
    "        #          /html/body/div/div[2]/div[2]/div[3]/div/div[2]/div/table/tr[1]/td[3]/div/span/span[1]/a\n",
    "        xpath_1 = \"/html/body/div/div[2]/div[2]/div[3]/div/div[2]/div/table/tr[1]/td[3]/div/span/span[1]/a\"\n",
    "        xpath_2 = \"/html/body/div/div[2]/div[2]/div[3]/div/div[2]/div/table/tr[1]/td[3]/div[2]/span/span[1]/a\"\n",
    "        # 测试时发现，如果近期有搜索记录，则会出现一个“最近浏览”的div，故而导致xpath路径改变\n",
    "        try:\n",
    "            first = self.browser.find_element(By.XPATH, xpath_1)\n",
    "\n",
    "        except NoSuchElementException:\n",
    "            try:\n",
    "                first = self.browser.find_element(By.XPATH, xpath_2)\n",
    "            except NoSuchElementException:\n",
    "                print(\"无法点击第一个搜索结果\")\n",
    "                return\n",
    "        first.click()\n",
    "\n",
    "        # 4. 点击后会在新页面打开，需要跳转到下一页\n",
    "        window_handles = self.browser.window_handles  # 获取所有选项卡的句柄\n",
    "        self.browser.switch_to.window(window_handles[1])\n",
    "\n",
    "    def get_code(self):\n",
    "        # 编写代码以获取公司代码\n",
    "        xpath = '/html/body/div/div[2]/div[5]/div[2]/div/div[2]/section[2]/div[2]/table/tr[4]/td[2]/span/span[1]'\n",
    "        try:\n",
    "            target = self.browser.find_element(By.XPATH, xpath)\n",
    "            self.code = target.text\n",
    "            print(f\"{self.name} 组织代码：{self.code}\")\n",
    "        except NoSuchElementException:\n",
    "            print(f\"{self.name} 没有组织代码\")\n",
    "\n",
    "    def get_financial_lists(self, path=\"财务报表HTML/\"):\n",
    "        # 使用绝对路径，效果不好\n",
    "        # xpath = '/html/body/div[1]/div[2]/div[5]/div[2]/div/div[2]/section[8]/div[5]/div/div/div/div[1]/div/div[4]/div/table'\n",
    "        # financialTables = self.browser.find_element(By.XPATH, xpath)\n",
    "        xpath = \"//div[@class='financial-table']\"\n",
    "        try:\n",
    "            target = self.browser.find_element(By.XPATH, xpath)\n",
    "            # 注意网页源码不能由self.financialTables=target直接保存\n",
    "            file_path = r\"./DATA/\" + path + self.name + \".html\"\n",
    "            with open(file_path, 'w', encoding='gbk') as file_in:\n",
    "                file_in.write(target.get_attribute(\"outerHTML\"))\n",
    "            self.financialTables = file_path\n",
    "            print(f\"{self.name} 财务报表导入成功\")\n",
    "        except NoSuchElementException:\n",
    "            file_path = r\"./DATA/\" + path + self.name + \".txt\"\n",
    "            with open(file_path, 'w', encoding='gbk') as file_in:\n",
    "                file_in.write(\"null\")\n",
    "            print(f\"{self.name} 没有找到财务报表\")\n",
    "\n",
    "    def info(self, dataList: list):\n",
    "        information = {\n",
    "            \"Name\": self.name,\n",
    "            \"FinancialList\": self.financialTables,\n",
    "            \"Code\": self.code,\n",
    "        }\n",
    "        dataList.append(information)\n",
    "\n",
    "\n",
    "class RealEstate(Enterprise):\n",
    "    def __init__(self, name, selenium_browser):\n",
    "        \"\"\"\n",
    "        :param name: 公司名称\n",
    "        :param selenium_browser:\n",
    "        \"\"\"\n",
    "        super().__init__(name, selenium_browser)  # 超类调用？？？\n",
    "        self.browser = selenium_browser\n",
    "        self.name = name\n",
    "        self.code = None\n",
    "        self.financialTables = None\n",
    "        self.suppilers = set()\n",
    "\n",
    "    def next_page(self):\n",
    "        sleep(uniform(1, 3))\n",
    "        next_bar = \"#supplierlist >  :nth-child(2) >   :nth-child(2)\"\n",
    "        try:\n",
    "            next_bar = self.browser.find_element(By.CSS_SELECTOR, next_bar)\n",
    "        except NoSuchElementException:\n",
    "            print(\"供应商：没有发现下一页\")\n",
    "            return None\n",
    "        nxts = next_bar.find_elements(By.XPATH, \"./*\")\n",
    "        for nxt in nxts:\n",
    "            if \">\" in nxt.text:  #&gt;\n",
    "                print(f\"供应商：下一页\")\n",
    "                # nxt.click()\n",
    "                return nxt\n",
    "        print(\"供应商：没有发现下一页\")\n",
    "        return None\n",
    "\n",
    "    def get_supplier(self):\n",
    "        # 点击“经营信息”，注意“经营信息”元素的位置未必一致，但是url有规律\n",
    "        # www.qcc.com/firm/hbfe840644a7dc0471cf2bd5e1e9d5cb.html 原网址\n",
    "        # www.qcc.com/crun/hbfe840644a7dc0471cf2bd5e1e9d5cb.html 经营信息网址\n",
    "        # 注意，企查查有严格的反爬虫机制，如果在浏览器中输入统一url次数过多，会出现405错误\n",
    "        url = self.browser.current_url\n",
    "        if \"crun\" in url:\n",
    "            pass\n",
    "        else:\n",
    "            url = url.replace(\"firm\", \"crun\")\n",
    "            self.browser.get(url)\n",
    "        table = \"#supplierlist >  :nth-child(2) >   :first-child\"\n",
    "        # #supplierlist > div.app-ntable > table > tr:nth-child(2) > td.left > div > span.cont > span > span > a\n",
    "        # #supplierlist > div.app-ntable > table > tr:nth-child(2) > td.left > div > span.cont > span > span > a\n",
    "        # #supplierlist > div.app-ntable > table > tr:nth-child(3) > td.left > div > span.cont > span > span > a\n",
    "        # #supplierlist > div.app-ntable > table > tr:nth-child(11) > td.left > div > span.cont > span > span > a\n",
    "        xpaths = [\n",
    "            f\"#supplierlist > div.app-ntable > table > tr:nth-child({i}) > td.left > div > span.cont > span > span > a\"\n",
    "            for i in range(2, 12)]\n",
    "        try:\n",
    "            target = self.browser.find_element(By.CSS_SELECTOR, table)\n",
    "        except NoSuchElementException:\n",
    "            print(f'{self.name} 没有供应商信息')\n",
    "            return\n",
    "        for i in xpaths:\n",
    "            try:\n",
    "                target = self.browser.find_element(By.CSS_SELECTOR, i)\n",
    "                self.suppilers.add(target.text)\n",
    "            except NoSuchElementException:\n",
    "                return\n",
    "\n",
    "    def get_all_supplier(self):\n",
    "        self.get_supplier()\n",
    "        nxt = self.next_page()\n",
    "        MAXPAGE = 15  # 存在bug，待修复\n",
    "        cont = 1\n",
    "        while nxt is not None and cont < MAXPAGE:\n",
    "            nxt.click()\n",
    "            nxt = self.next_page()\n",
    "            self.get_supplier()\n",
    "            cont = cont + 1\n",
    "\n",
    "    def info(self, dataList: list):\n",
    "        information = {\n",
    "            \"Name\": self.name,\n",
    "            \"FinancialList\": self.financialTables,\n",
    "            \"Code\": self.code,\n",
    "            \"suppliers\": list(self.suppilers)\n",
    "        }\n",
    "        dataList.append(information)\n"
   ],
   "metadata": {
    "collapsed": false,
    "ExecuteTime": {
     "end_time": "2024-02-05T12:40:46.825827Z",
     "start_time": "2024-02-05T12:40:46.773800800Z"
    }
   },
   "id": "4923907640be89af"
  },
  {
   "cell_type": "code",
   "execution_count": 30,
   "outputs": [],
   "source": [
    "def getAllEnterpriseFinancialList():\n",
    "    \"\"\"\n",
    "    爬取所有企业的财务报表，如果'./DATA/财务报表HTML'目录中已有，则不爬取\n",
    "    \"\"\"\n",
    "    # 已经下载好的财务报表\n",
    "    downloadedList = [filename.split('.')[0] for filename in os.listdir(r\"./DATA/财务报表HTML\") if\n",
    "                      filename.endswith(\".html\")]\n",
    "    # 没有财务报表的企业\n",
    "    noData = [filename.split('.')[0] for filename in os.listdir(r\"./DATA/财务报表HTML\") if\n",
    "                      filename.endswith(\".txt\")]\n",
    "    # 待下载的财务报表\n",
    "    df = pd.read_csv(\"./DATA/企业预警通/所有发行债券企业.csv\", index_col=0)\n",
    "    toDownload = []\n",
    "    for i in df['企业名称']:\n",
    "        if i not in downloadedList and i not in noData:\n",
    "            toDownload.append(i)\n",
    "    # 打印待爬取企业的数量\n",
    "    print(f'已经保存 {len(downloadedList)} 家企业的财务数据')\n",
    "    print(f'{len(noData)} 家企业没有财务报表')\n",
    "    print(f'待爬取 {len(toDownload)} 家企业的财务数据')\n",
    "    # 开始爬取\n",
    "    enterprises = [Enterprise(name=name, selenium_browser=browser) for name in toDownload]\n",
    "    for enterprise in enterprises:\n",
    "        enterprise.search()\n",
    "        enterprise.get_code()\n",
    "        enterprise.get_financial_lists()"
   ],
   "metadata": {
    "collapsed": false,
    "ExecuteTime": {
     "end_time": "2024-02-05T12:40:46.870395800Z",
     "start_time": "2024-02-05T12:40:46.801800Z"
    }
   },
   "id": "fb70cc7edac42168"
  },
  {
   "cell_type": "code",
   "execution_count": null,
   "outputs": [],
   "source": [
    "getAllEnterpriseFinancialList()"
   ],
   "metadata": {
    "collapsed": false
   },
   "id": "9529c45b4e34d595"
  },
  {
   "cell_type": "code",
   "execution_count": null,
   "outputs": [],
   "source": [
    "if __name__ == \"__main__\":\n",
    "    # 启动selenium浏览器\n",
    "    browser = webdriver.Edge()\n",
    "    browser.get(\"https://www.qcc.com\")\n",
    "    s = input(\"请登录并关闭弹窗，完成后请按 y\\n\")\n",
    "    while s != 'y':\n",
    "        sleep(1)\n",
    "        s = input(\"请登录并关闭弹窗，完成后请按 y\\n y\")\n",
    "    getAllEnterpriseFinancialList()"
   ],
   "metadata": {
    "collapsed": false
   },
   "id": "6e97f759eeaa7357"
  },
  {
   "cell_type": "code",
   "execution_count": 55,
   "outputs": [],
   "source": [
    "realEstateData = []"
   ],
   "metadata": {
    "collapsed": false,
    "ExecuteTime": {
     "end_time": "2024-01-19T13:11:23.523005600Z",
     "start_time": "2024-01-19T13:11:23.481290700Z"
    }
   },
   "id": "7e0051e72ecb6d45"
  },
  {
   "cell_type": "code",
   "execution_count": null,
   "outputs": [],
   "source": [
    "# 读取 房地产公司名录\n",
    "with open(\"房地产公司名录.txt\", 'r', encoding='utf-8') as file:\n",
    "    realEstateList = [RealEstate(name=i.strip(), selenium_browser=browser) for i in file.readlines()]\n",
    "for estate in realEstateList[6:]:\n",
    "    # browser.get(\"https://www.qcc.com\")\n",
    "    estate.search()\n",
    "    estate.get_code()\n",
    "    estate.get_financial_lists()\n",
    "    estate.get_all_supplier()\n",
    "    # realEstateData.append(estate.info())\n",
    "    estate.info(realEstateData)\n",
    "    sleep(uniform(3, 8))"
   ],
   "metadata": {
    "collapsed": false
   },
   "id": "5f66c4a1332e7b8c"
  },
  {
   "cell_type": "code",
   "execution_count": 46,
   "outputs": [],
   "source": [
    "lenth = len(realEstateData)\n",
    "for i in range(lenth):\n",
    "    realEstateData[i][\"suppliers\"] = list(realEstateData[i][\"suppliers\"])"
   ],
   "metadata": {
    "collapsed": false,
    "ExecuteTime": {
     "end_time": "2024-01-19T13:01:53.218441700Z",
     "start_time": "2024-01-19T13:01:53.197297200Z"
    }
   },
   "id": "4a2c7f0c7fac6802"
  },
  {
   "cell_type": "code",
   "execution_count": 50,
   "outputs": [],
   "source": [
    "import json\n",
    "\n",
    "with open(\"./DATA/房地产公司信息.json\", 'w', encoding='utf-8') as file:\n",
    "    json.dump(realEstateData, file, ensure_ascii=False)"
   ],
   "metadata": {
    "collapsed": false,
    "ExecuteTime": {
     "end_time": "2024-01-19T13:04:32.826611300Z",
     "start_time": "2024-01-19T13:04:32.807809700Z"
    }
   },
   "id": "180e108446e7602"
  },
  {
   "cell_type": "code",
   "execution_count": 78,
   "outputs": [],
   "source": [
    "with open(\"./DATA/房地产公司信息.json\", 'r', encoding='utf-8') as file:\n",
    "    data = json.load(file)\n",
    "suppliers = set()\n",
    "for item in data:\n",
    "    suppliers.update(item[\"suppliers\"])\n",
    "suppliers = list(suppliers)\n",
    "suppliers = [Enterprise(name=i, selenium_browser=browser) for i in suppliers]"
   ],
   "metadata": {
    "collapsed": false,
    "ExecuteTime": {
     "end_time": "2024-01-19T13:37:55.615157800Z",
     "start_time": "2024-01-19T13:37:55.594503200Z"
    }
   },
   "id": "fec4334595e41794"
  },
  {
   "cell_type": "code",
   "execution_count": 79,
   "outputs": [],
   "source": [
    "data = []  # 存储供应商信息"
   ],
   "metadata": {
    "collapsed": false,
    "ExecuteTime": {
     "end_time": "2024-01-19T13:37:57.302012700Z",
     "start_time": "2024-01-19T13:37:57.279726700Z"
    }
   },
   "id": "8516a6ce0e1d11fd"
  },
  {
   "cell_type": "code",
   "execution_count": null,
   "outputs": [],
   "source": [
    "for i, supplier in enumerate(suppliers[84:]):\n",
    "    print(i, end=\",\")\n",
    "    supplier.search()\n",
    "    supplier.get_code()\n",
    "    supplier.get_financial_lists(path=\"供应商财务报表/\")\n",
    "    supplier.info(data)"
   ],
   "metadata": {
    "collapsed": false
   },
   "id": "769d8e702967effa"
  },
  {
   "cell_type": "code",
   "execution_count": 84,
   "outputs": [],
   "source": [
    "with open(\"./DATA/供应商公司信息.json\", 'w', encoding='utf-8') as file:\n",
    "    json.dump(data, file, ensure_ascii=False)"
   ],
   "metadata": {
    "collapsed": false,
    "ExecuteTime": {
     "end_time": "2024-01-19T13:52:55.983505600Z",
     "start_time": "2024-01-19T13:52:55.944717300Z"
    }
   },
   "id": "fb33bb27c08f63fc"
  }
 ],
 "metadata": {
  "kernelspec": {
   "display_name": "Python 3",
   "language": "python",
   "name": "python3"
  },
  "language_info": {
   "codemirror_mode": {
    "name": "ipython",
    "version": 2
   },
   "file_extension": ".py",
   "mimetype": "text/x-python",
   "name": "python",
   "nbconvert_exporter": "python",
   "pygments_lexer": "ipython2",
   "version": "2.7.6"
  }
 },
 "nbformat": 4,
 "nbformat_minor": 5
}
