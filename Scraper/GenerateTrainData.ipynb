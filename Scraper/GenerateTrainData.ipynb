{
 "cells": [
  {
   "cell_type": "code",
   "execution_count": 1,
   "id": "initial_id",
   "metadata": {
    "collapsed": true,
    "ExecuteTime": {
     "end_time": "2024-02-05T11:10:26.785568900Z",
     "start_time": "2024-02-05T11:10:25.984735400Z"
    }
   },
   "outputs": [
    {
     "name": "stdout",
     "output_type": "stream",
     "text": [
      "(55, 3)\n"
     ]
    }
   ],
   "source": [
    "import pandas as pd\n",
    "df = pd.read_csv(\"./DATA/企业预警通/债券违约.csv\", index_col=0)\n",
    "df['首次违约日'] = pd.to_datetime(df['首次违约日']).dt.year\n",
    "df['最新违约日'] = pd.to_datetime(df['最新违约日']).dt.year\n",
    "defaultEnterprises = df[['发行人', '最新违约日', '首次违约日']]\n",
    "defaultEnterprises = defaultEnterprises.drop_duplicates(subset=['首次违约日', '发行人', '最新违约日'])\n",
    "print(defaultEnterprises.shape)"
   ]
  },
  {
   "cell_type": "code",
   "execution_count": 2,
   "outputs": [
    {
     "name": "stdout",
     "output_type": "stream",
     "text": [
      "(193,)\n",
      "(193,)\n"
     ]
    }
   ],
   "source": [
    "import pandas as pd\n",
    "df = pd.read_csv(\"./DATA/企业预警通/所有发行债券企业.csv\", index_col=0)\n",
    "all_enterprise= df['企业名称']\n",
    "print(all_enterprise.shape)\n",
    "all_enterprise=pd.unique(all_enterprise)\n",
    "print(all_enterprise.shape)"
   ],
   "metadata": {
    "collapsed": false,
    "ExecuteTime": {
     "end_time": "2024-02-05T11:10:26.822611800Z",
     "start_time": "2024-02-05T11:10:26.786077400Z"
    }
   },
   "id": "7706c37610ea538d"
  }
 ],
 "metadata": {
  "kernelspec": {
   "display_name": "Python 3",
   "language": "python",
   "name": "python3"
  },
  "language_info": {
   "codemirror_mode": {
    "name": "ipython",
    "version": 2
   },
   "file_extension": ".py",
   "mimetype": "text/x-python",
   "name": "python",
   "nbconvert_exporter": "python",
   "pygments_lexer": "ipython2",
   "version": "2.7.6"
  }
 },
 "nbformat": 4,
 "nbformat_minor": 5
}
