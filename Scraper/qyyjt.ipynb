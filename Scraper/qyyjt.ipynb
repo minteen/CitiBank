{
 "cells": [
  {
   "cell_type": "code",
   "execution_count": 8,
   "outputs": [],
   "source": [
    "from bs4 import BeautifulSoup\n",
    "import pandas as pd\n",
    "import os\n",
    "from io import StringIO\n",
    "\n",
    "\n",
    "def htmls2csv(column_index,\n",
    "              html_files_directory='./tempHTML/房地产公司汇总/',\n",
    "              encode='utf-8',\n",
    "              selector='div.ant-table-body > table',\n",
    "              output_file='output_combined'):\n",
    "    \"\"\"\n",
    "    提取指定文件夹中的所有html中 指定样式的的表格，汇总导出为一个csv文件\n",
    "    :param column_index: 列索引\n",
    "    :param html_files_directory: 待提取的HTML文件夹\n",
    "    :param encode: 保存后的编码方式\n",
    "    :param selector: 表格的选择器\n",
    "    :param output_file: 导出的csv文件名字\n",
    "    \"\"\"\n",
    "    # Directory containing your HTML files\n",
    "    # Output CSV file\n",
    "    output_csv_file = output_file + '.csv'\n",
    "\n",
    "    df_list = []\n",
    "    # 遍历文件夹中的所有HTML文件\n",
    "    html_files = sorted([filename for filename in os.listdir(html_files_directory) if filename.endswith(\".html\")])\n",
    "    print(len(html_files))\n",
    "    # 遍历排序后的文件名列表\n",
    "    for filename in html_files:\n",
    "        file_path = os.path.join(html_files_directory, filename)\n",
    "        with open(file_path, 'r', encoding='utf-8') as file_in:\n",
    "            html_content = file_in.read()\n",
    "        soup = BeautifulSoup(html_content, 'lxml')\n",
    "        # Find all tables with the specified style\n",
    "        tables = soup.select(selector=selector)\n",
    "\n",
    "        # Check if any tables with the specified style were found\n",
    "        if tables:\n",
    "            # Iterate through each table, convert it to a DataFrame, and add it to the list\n",
    "            for table in tables:\n",
    "                html_str = str(table)\n",
    "                print(file_path)\n",
    "                # df_list.append(pd.read_html(StringIO(html_str))[0])\n",
    "                temp_df = pd.read_html(StringIO(html_str))[0]\n",
    "                # Resetting the index of the DataFrame\n",
    "                temp_df = temp_df.reset_index(drop=True)\n",
    "                df_list.append(temp_df)\n",
    "        else:\n",
    "            print(f\"there is no tables with the specified style in the {filename}\")\n",
    "\n",
    "    # Concatenate all DataFrames into a single DataFrame\n",
    "    combined_df = pd.concat(df_list, ignore_index=True)\n",
    "    # 去除全部是NULL的行和列\n",
    "    combined_df = combined_df.dropna(axis=0, how='all')\n",
    "    combined_df = combined_df.dropna(axis=1, how='all')\n",
    "    # resetting the index of the DataFrame and dropping the old index column\n",
    "    combined_df = combined_df.reset_index(drop=True)\n",
    "    combined_df.columns = column_index\n",
    "    combined_df.to_csv(output_csv_file, index=True, encoding=encode)\n",
    "    # print(combined_df)"
   ],
   "metadata": {
    "collapsed": false,
    "ExecuteTime": {
     "end_time": "2024-02-05T11:09:30.199655100Z",
     "start_time": "2024-02-05T11:09:30.167083700Z"
    }
   },
   "id": "4e1c3d5ee96de54f"
  },
  {
   "cell_type": "code",
   "execution_count": 9,
   "outputs": [],
   "source": [
    "def getAllEntreprise():\n",
    "    \"\"\"\n",
    "    通过企业预警通, 保存所有发行过债券的房地产公司名单\n",
    "    只保留非国营、非央企\n",
    "    \"\"\"\n",
    "    all_enterprise_column_index = [ # 企业预警通中所有发行过债券的企业表的表头\n",
    "        '序号', '企业名称', '经营状态', '法定代表人',\n",
    "        '注册资本', '注册资本币种', '成立日期', '核准日期',\n",
    "        '所属省', '所属市', '所属区/县', '统一社会信用代码',\n",
    "        '联系电话', '邮箱', '参保人', '企业性质',\n",
    "        '组织形式', '国标行业门类', '国标行业大类', '国标行业中类',\n",
    "        '国标行业小类', '网址', '注册地址', '通信地址', '是否发行债券', '经营范围']\n",
    "    selector = \"div.ant-table-body > table\"\n",
    "    htmls2csv(column_index=all_enterprise_column_index, output_file=\"DATA/企业预警通/所有发行债券企业\",encode='utf-8',selector=selector,html_files_directory='./tempHTML/房地产公司汇总/')\n",
    "    \n",
    "def getDaultBond():\n",
    "    \"\"\"\n",
    "    通过企业预警通, 保存所有债券违约的房地产公司名单\n",
    "    \"\"\"\n",
    "    default_column_index = [ #\n",
    "        '序号','债券代码','债券简称','最新违约日',\n",
    "        '最新违约金额','发行人','主承','违约原因','最新违约类型',\n",
    "        '累计违约金额','首次违约日','企业性质','行业',\n",
    "        '地区','最新主体评级','债券市场','债券类型'\n",
    "    ]\n",
    "    selector = \"div.ant-table-body > table\"\n",
    "    htmls2csv(column_index=default_column_index, output_file=\"DATA/企业预警通/债券违约\",encode='utf-8',selector=selector,html_files_directory='./tempHTML/债券违约/')\n",
    "\n",
    "def getDefaultEntity():\n",
    "    \"\"\"\n",
    "    通过企业预警通, 保存所有债券违约的违约主体\n",
    "    \"\"\"\n",
    "    entity_column_index = [\n",
    "        '序号','违约主体','首次违约日期','违约只数',\n",
    "        '违约金额','已偿还','偿还进度','行业','地区',\n",
    "        '企业性质'\n",
    "    ]\n",
    "    selector = \"div.ant-table-body > table\"\n",
    "    htmls2csv(column_index=entity_column_index, output_file=\"DATA/企业预警通/违约主体\",encode='utf-8',selector=selector,html_files_directory='./tempHTML/违约主体/')\n",
    "    \n",
    "def getAmericanBond():\n",
    "    bond_column_index = [\n",
    "        '序号','ISIN代码','债券全称',\t\n",
    "        '违约日期','信用主体','违约原因',\t\n",
    "        '违约金额(亿美元)','违约金额币种','发行人',\n",
    "        '发行规模(亿元)','起息日','最新票息利率(%)',\n",
    "        '兑付日','企业性质','主体评级','行业'\n",
    "    ]\n",
    "    selector = \"div.ant-table-body > table\"\n",
    "    htmls2csv(column_index=bond_column_index, output_file=\"DATA/企业预警通/美债违约\",encode='utf-8',selector=selector,html_files_directory='./tempHTML/美债违约/')\n",
    "\n",
    "def getBondDetail():\n",
    "    bond_column_index = [\n",
    "        '序号','债券代码','债券简称','发债人',\n",
    "        '展期公告日','状态','展期总额(亿)',\n",
    "        '已兑付金额(亿)','展期本金(亿)','展期利息(亿)','展期孳息(亿)',\n",
    "        '首次展期时余额(亿)','首次展期日期','展期起始日','展期截止日',\n",
    "        '展期类型','历程','债券类型','首次展期债项评级','是否城投',\n",
    "        '企业性质','所属行业','所属地区','首次展期主体评级'\n",
    "    ]\n",
    "    selector = \"div.ant-table-body > table\"\n",
    "    htmls2csv(column_index=bond_column_index, output_file=\"DATA/企业预警通/债券展期明细\",encode='utf-8',selector=selector,html_files_directory='./tempHTML/债券展期明细/')"
   ],
   "metadata": {
    "collapsed": false,
    "ExecuteTime": {
     "end_time": "2024-02-05T11:09:30.201674Z",
     "start_time": "2024-02-05T11:09:30.188200800Z"
    }
   },
   "id": "8000f59fce6aaea"
  },
  {
   "cell_type": "code",
   "execution_count": 10,
   "outputs": [
    {
     "name": "stdout",
     "output_type": "stream",
     "text": [
      "4\n",
      "./tempHTML/债券违约/1.html\n",
      "./tempHTML/债券违约/2.html\n",
      "./tempHTML/债券违约/3.html\n",
      "./tempHTML/债券违约/4.html\n"
     ]
    }
   ],
   "source": [
    "if __name__ == \"__main__\":\n",
    "    # getAllEntreprise()\n",
    "    getDaultBond()\n",
    "    # getDefaultEntity()\n",
    "    # getAmericanBond()\n",
    "    # getBondDetail()"
   ],
   "metadata": {
    "collapsed": false,
    "ExecuteTime": {
     "end_time": "2024-02-05T11:09:30.678990700Z",
     "start_time": "2024-02-05T11:09:30.201674Z"
    }
   },
   "id": "401daf82e67fad6a"
  }
 ],
 "metadata": {
  "kernelspec": {
   "display_name": "Python 3",
   "language": "python",
   "name": "python3"
  },
  "language_info": {
   "codemirror_mode": {
    "name": "ipython",
    "version": 2
   },
   "file_extension": ".py",
   "mimetype": "text/x-python",
   "name": "python",
   "nbconvert_exporter": "python",
   "pygments_lexer": "ipython2",
   "version": "2.7.6"
  }
 },
 "nbformat": 4,
 "nbformat_minor": 5
}
